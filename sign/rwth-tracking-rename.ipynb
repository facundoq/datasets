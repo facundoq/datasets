{
 "cells": [
  {
   "cell_type": "code",
   "execution_count": 1,
   "metadata": {},
   "outputs": [
    {
     "name": "stdout",
     "output_type": "stream",
     "text": [
      "/data/datasets/rwth-tracking/.history.forster\n",
      "/data/datasets/rwth-tracking/01April_2010_Thursday_heute\n",
      "/data/datasets/rwth-tracking/01April_2010_Thursday_tagesschau\n",
      "/data/datasets/rwth-tracking/01June_2010_Tuesday_heute\n",
      "/data/datasets/rwth-tracking/01June_2010_Tuesday_tagesschau\n",
      "/data/datasets/rwth-tracking/01May_2010_Saturday_tagesschau\n",
      "/data/datasets/rwth-tracking/02February_2010_Tuesday_tagesschau\n",
      "/data/datasets/rwth-tracking/02June_2010_Wednesday_heute\n",
      "/data/datasets/rwth-tracking/02June_2010_Wednesday_tagesschau\n",
      "/data/datasets/rwth-tracking/03April_2010_Saturday_tagesschau\n",
      "/data/datasets/rwth-tracking/03February_2010_Wednesday_heute\n",
      "/data/datasets/rwth-tracking/03February_2010_Wednesday_tagesschau\n",
      "/data/datasets/rwth-tracking/03June_2010_Thursday_tagesschau\n",
      "/data/datasets/rwth-tracking/04April_2010_Sunday_tagesschau\n",
      "/data/datasets/rwth-tracking/04February_2010_Thursday_heute\n",
      "/data/datasets/rwth-tracking/04January_2010_Monday_heute\n",
      "/data/datasets/rwth-tracking/04January_2010_Monday_tagesschau\n",
      "/data/datasets/rwth-tracking/04June_2010_Friday_tagesschau\n",
      "/data/datasets/rwth-tracking/04May_2010_Tuesday_heute\n",
      "/data/datasets/rwth-tracking/04May_2010_Tuesday_tagesschau\n",
      "/data/datasets/rwth-tracking/05April_2010_Monday_tagesschau\n",
      "/data/datasets/rwth-tracking/05February_2010_Friday_tagesschau\n",
      "/data/datasets/rwth-tracking/05January_2010_Tuesday_tagesschau\n",
      "/data/datasets/rwth-tracking/05June_2010_Saturday_tagesschau\n",
      "/data/datasets/rwth-tracking/05May_2010_Wednesday_tagesschau\n",
      "/data/datasets/rwth-tracking/06April_2010_Tuesday_heute\n",
      "/data/datasets/rwth-tracking/06April_2010_Tuesday_tagesschau\n",
      "/data/datasets/rwth-tracking/06February_2010_Saturday_tagesschau\n",
      "/data/datasets/rwth-tracking/06January_2010_Wednesday_heute\n",
      "/data/datasets/rwth-tracking/06January_2010_Wednesday_tagesschau\n",
      "/data/datasets/rwth-tracking/06June_2010_Sunday_tagesschau\n",
      "/data/datasets/rwth-tracking/06May_2010_Thursday_heute\n",
      "/data/datasets/rwth-tracking/06May_2010_Thursday_tagesschau\n",
      "/data/datasets/rwth-tracking/07April_2010_Wednesday_heute\n",
      "/data/datasets/rwth-tracking/07April_2010_Wednesday_tagesschau\n",
      "/data/datasets/rwth-tracking/20110111-annotated-groundtruth.xml\n",
      "/data/datasets/rwth-tracking/20110111-annotated-groundtruth.xml.gz\n",
      "/data/datasets/rwth-tracking/link.txt\n"
     ]
    }
   ],
   "source": [
    "\n",
    "\n",
    "import os\n",
    "\n",
    "#basepath='/media/facundoq/Seagate Expansion Drive/ffff/rwth-tracking'\n",
    "#basepath='/data/datasets/test_rwth'\n",
    "basepath='/data/datasets/rwth-tracking'\n",
    "\n",
    "files=os.listdir(basepath)\n",
    "files.sort()\n",
    "current_folderpath=''\n",
    "for (i,f) in enumerate(files):\n",
    "  fullpath=os.path.join(basepath,f)\n",
    "  print(fullpath)\n",
    "  if os.path.isfile(fullpath) and f.endswith('png'):\n",
    "    basename=os.path.basename(f)\n",
    "    name,extension=os.path.splitext(basename)\n",
    "    separator_index=basename.rfind(\"_\")\n",
    "    folder,frame=basename[:separator_index],basename[separator_index:]\n",
    "    folder,_=os.path.splitext(folder)\n",
    "\n",
    "    current_folderpath=folderpath\n",
    "    folderpath=os.path.join(basepath,folder)\n",
    "    if not (folderpath==current_folderpath):\n",
    "      if not os.path.exists(current_folderpath):\n",
    "        os.mkdir(current_folderpath)\n",
    "    destination_fullpath=os.path.join(current_folderpath,frame)\n",
    "    os.rename(fullpath,destination_fullpath)\n"
   ]
  }
 ],
 "metadata": {
  "kernelspec": {
   "display_name": "Python 3",
   "language": "python",
   "name": "python3"
  },
  "language_info": {
   "codemirror_mode": {
    "name": "ipython",
    "version": 3
   },
   "file_extension": ".py",
   "mimetype": "text/x-python",
   "name": "python",
   "nbconvert_exporter": "python",
   "pygments_lexer": "ipython3",
   "version": "3.6.1"
  }
 },
 "nbformat": 4,
 "nbformat_minor": 2
}
