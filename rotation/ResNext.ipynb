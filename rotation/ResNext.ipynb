{
 "cells": [
  {
   "cell_type": "code",
   "execution_count": 1,
   "metadata": {},
   "outputs": [],
   "source": [
    "import matplotlib.pyplot as plt\n",
    "%load_ext autoreload\n",
    "%autoreload 2\n",
    "plt.rcParams['image.cmap'] = 'gray'"
   ]
  },
  {
   "cell_type": "code",
   "execution_count": 2,
   "metadata": {},
   "outputs": [
    {
     "name": "stderr",
     "output_type": "stream",
     "text": [
      "Using TensorFlow backend.\n",
      "/home/facundo/.python/lib/python3.6/importlib/_bootstrap.py:205: RuntimeWarning: compiletime version 3.5 of module 'tensorflow.python.framework.fast_tensor_util' does not match runtime version 3.6\n",
      "  return f(*args, **kwds)\n"
     ]
    },
    {
     "name": "stdout",
     "output_type": "stream",
     "text": [
      "x_train shape: (50000, 32, 32, 3)\n",
      "50000 train samples\n",
      "10000 test samples\n"
     ]
    }
   ],
   "source": [
    "\n",
    "import keras\n",
    "\n",
    "import os\n",
    "import datasets\n",
    "import models\n",
    "dataset=\"cifar10\"\n",
    "(x_train, y_train), (x_test, y_test), input_shape,num_classes = datasets.get_data(dataset)\n",
    "\n",
    "\n",
    "print('x_train shape:', x_train.shape)\n",
    "print(x_train.shape[0], 'train samples')\n",
    "print(x_test.shape[0], 'test samples')\n",
    "\n",
    "\n",
    "\n"
   ]
  },
  {
   "cell_type": "code",
   "execution_count": null,
   "metadata": {},
   "outputs": [],
   "source": [
    "cardinality=32\n",
    "bottleneck_filters=128\n",
    "initial_filters=256\n",
    "lr=0.001\n",
    "model = models.residual_network(input_shape,num_classes,cardinality,bottleneck_filters,initial_filters)\n",
    "model.compile(loss=keras.losses.categorical_crossentropy,\n",
    "              optimizer=keras.optimizers.RMSprop(lr=lr),\n",
    "              metrics=['accuracy'])\n",
    "print(model.summary())\n"
   ]
  },
  {
   "cell_type": "code",
   "execution_count": null,
   "metadata": {},
   "outputs": [],
   "source": [
    "\n",
    "\n",
    "rotated_model = models.residual_network(input_shape,num_classes,cardinality,bottleneck_filters,initial_filters)\n",
    "rotated_model.compile(loss=keras.losses.categorical_crossentropy,\n",
    "              optimizer=keras.optimizers.RMSprop(lr=lr),\n",
    "              metrics=['accuracy'])\n",
    "print(rotated_model.summary())\n"
   ]
  },
  {
   "cell_type": "code",
   "execution_count": null,
   "metadata": {},
   "outputs": [
    {
     "name": "stdout",
     "output_type": "stream",
     "text": [
      "Training model with unrotated dataset...\n",
      "Epoch 1/10\n",
      "1563/1562 [==============================] - 1832s 1s/step - loss: 1.6963 - acc: 0.3703 - val_loss: 1.4315 - val_acc: 0.4755\n",
      "Epoch 2/10\n",
      "1563/1562 [==============================] - 1833s 1s/step - loss: 1.2597 - acc: 0.5461 - val_loss: 1.1875 - val_acc: 0.5803\n",
      "Epoch 3/10\n",
      "1563/1562 [==============================] - 1833s 1s/step - loss: 1.0573 - acc: 0.6250 - val_loss: 1.1435 - val_acc: 0.6054\n",
      "Epoch 4/10\n",
      "1563/1562 [==============================] - 1833s 1s/step - loss: 0.9254 - acc: 0.6774 - val_loss: 0.9062 - val_acc: 0.6843\n",
      "Epoch 5/10\n",
      "1563/1562 [==============================] - 1833s 1s/step - loss: 0.8234 - acc: 0.7134 - val_loss: 1.0220 - val_acc: 0.6575\n",
      "Epoch 6/10\n",
      "1563/1562 [==============================] - 1833s 1s/step - loss: 0.7449 - acc: 0.7404 - val_loss: 0.9381 - val_acc: 0.6834\n",
      "Epoch 7/10\n",
      "1563/1562 [==============================] - 1833s 1s/step - loss: 0.6836 - acc: 0.7615 - val_loss: 0.7856 - val_acc: 0.7333\n",
      "Epoch 8/10\n",
      "1563/1562 [==============================] - 1833s 1s/step - loss: 0.6333 - acc: 0.7804 - val_loss: 0.7175 - val_acc: 0.7568\n",
      "Epoch 9/10\n",
      " 626/1562 [===========>..................] - ETA: 17:38 - loss: 0.5846 - acc: 0.7958"
     ]
    }
   ],
   "source": [
    "import experiment\n",
    "batch_size = 32\n",
    "epochs=10\n",
    "rotated_epochs=epochs*2\n",
    "scores=experiment.train_rotated(model,rotated_model,x_train,y_train,x_test,\n",
    "                          y_test,num_classes,input_shape,batch_size,epochs,rotated_epochs)\n",
    "\n",
    "\n",
    "for k,v in scores.items():\n",
    "    print('%s score: loss=%f, accuracy=%f' % (k,v[0],v[1]))\n"
   ]
  },
  {
   "cell_type": "code",
   "execution_count": null,
   "metadata": {},
   "outputs": [],
   "source": []
  }
 ],
 "metadata": {
  "kernelspec": {
   "display_name": "Python 3",
   "language": "python",
   "name": "python3"
  },
  "language_info": {
   "codemirror_mode": {
    "name": "ipython",
    "version": 3
   },
   "file_extension": ".py",
   "mimetype": "text/x-python",
   "name": "python",
   "nbconvert_exporter": "python",
   "pygments_lexer": "ipython3",
   "version": "3.6.1"
  }
 },
 "nbformat": 4,
 "nbformat_minor": 2
}
