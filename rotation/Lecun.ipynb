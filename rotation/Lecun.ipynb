{
 "cells": [
  {
   "cell_type": "code",
   "execution_count": 1,
   "metadata": {},
   "outputs": [],
   "source": [
    "import matplotlib.pyplot as plt\n",
    "%load_ext autoreload\n",
    "%autoreload 2\n",
    "plt.rcParams['image.cmap'] = 'gray'"
   ]
  },
  {
   "cell_type": "code",
   "execution_count": null,
   "metadata": {},
   "outputs": [],
   "source": [
    "\n",
    "import keras\n",
    "\n",
    "import os\n",
    "import datasets\n",
    "import models\n",
    "dataset=\"cluttered_mnist\"\n",
    "(x_train, y_train), (x_test, y_test), input_shape,num_classes = datasets.get_data(dataset)\n",
    "\n",
    "\n",
    "print('x_train shape:', x_train.shape)\n",
    "print(x_train.shape[0], 'train samples')\n",
    "print(x_test.shape[0], 'test samples')\n",
    "\n",
    "\n",
    "\n"
   ]
  },
  {
   "cell_type": "code",
   "execution_count": 3,
   "metadata": {},
   "outputs": [
    {
     "name": "stdout",
     "output_type": "stream",
     "text": [
      "_________________________________________________________________\n",
      "Layer (type)                 Output Shape              Param #   \n",
      "=================================================================\n",
      "conv1 (Conv2D)               (None, 38, 38, 128)       1280      \n",
      "_________________________________________________________________\n",
      "conv11 (Conv2D)              (None, 18, 18, 256)       295168    \n",
      "_________________________________________________________________\n",
      "batch_normalization_1 (Batch (None, 18, 18, 256)       1024      \n",
      "_________________________________________________________________\n",
      "conv21 (Conv2D)              (None, 8, 8, 512)         1180160   \n",
      "_________________________________________________________________\n",
      "batch_normalization_2 (Batch (None, 8, 8, 512)         2048      \n",
      "_________________________________________________________________\n",
      "conv22 (Conv2D)              (None, 3, 3, 1024)        4719616   \n",
      "_________________________________________________________________\n",
      "batch_normalization_3 (Batch (None, 3, 3, 1024)        4096      \n",
      "_________________________________________________________________\n",
      "flatten_1 (Flatten)          (None, 9216)              0         \n",
      "_________________________________________________________________\n",
      "fc1 (Dense)                  (None, 256)               2359552   \n",
      "_________________________________________________________________\n",
      "batch_normalization_4 (Batch (None, 256)               1024      \n",
      "_________________________________________________________________\n",
      "fc2 (Dense)                  (None, 10)                2570      \n",
      "=================================================================\n",
      "Total params: 8,566,538\n",
      "Trainable params: 8,562,442\n",
      "Non-trainable params: 4,096\n",
      "_________________________________________________________________\n",
      "None\n"
     ]
    }
   ],
   "source": [
    "\n",
    "model = models.simple_conv(input_shape,num_classes,filters=128)\n",
    "model.compile(loss=keras.losses.categorical_crossentropy,\n",
    "              optimizer=keras.optimizers.RMSprop(lr=0.0015),\n",
    "              metrics=['accuracy'])\n",
    "print(model.summary())\n"
   ]
  },
  {
   "cell_type": "code",
   "execution_count": 4,
   "metadata": {},
   "outputs": [
    {
     "name": "stdout",
     "output_type": "stream",
     "text": [
      "_________________________________________________________________\n",
      "Layer (type)                 Output Shape              Param #   \n",
      "=================================================================\n",
      "conv1 (Conv2D)               (None, 38, 38, 128)       1280      \n",
      "_________________________________________________________________\n",
      "conv11 (Conv2D)              (None, 18, 18, 256)       295168    \n",
      "_________________________________________________________________\n",
      "batch_normalization_5 (Batch (None, 18, 18, 256)       1024      \n",
      "_________________________________________________________________\n",
      "conv21 (Conv2D)              (None, 8, 8, 512)         1180160   \n",
      "_________________________________________________________________\n",
      "batch_normalization_6 (Batch (None, 8, 8, 512)         2048      \n",
      "_________________________________________________________________\n",
      "conv22 (Conv2D)              (None, 3, 3, 1024)        4719616   \n",
      "_________________________________________________________________\n",
      "batch_normalization_7 (Batch (None, 3, 3, 1024)        4096      \n",
      "_________________________________________________________________\n",
      "flatten_2 (Flatten)          (None, 9216)              0         \n",
      "_________________________________________________________________\n",
      "fc1 (Dense)                  (None, 256)               2359552   \n",
      "_________________________________________________________________\n",
      "batch_normalization_8 (Batch (None, 256)               1024      \n",
      "_________________________________________________________________\n",
      "fc2 (Dense)                  (None, 10)                2570      \n",
      "=================================================================\n",
      "Total params: 8,566,538\n",
      "Trainable params: 8,562,442\n",
      "Non-trainable params: 4,096\n",
      "_________________________________________________________________\n",
      "None\n"
     ]
    }
   ],
   "source": [
    "\n",
    "\n",
    "\n",
    "rotated_model = models.simple_conv(input_shape,num_classes,filters=128)\n",
    "rotated_model.compile(loss=keras.losses.categorical_crossentropy,\n",
    "              optimizer=keras.optimizers.RMSprop(lr=0.0015),\n",
    "              metrics=['accuracy'])\n",
    "print(rotated_model.summary())\n"
   ]
  },
  {
   "cell_type": "code",
   "execution_count": 7,
   "metadata": {},
   "outputs": [
    {
     "name": "stdout",
     "output_type": "stream",
     "text": [
      "Training model with unrotated dataset...\n",
      "Epoch 1/5\n",
      "157/156 [==============================] - 5s 32ms/step - loss: 0.0066 - acc: 0.9983 - val_loss: 14.4740 - val_acc: 0.1020\n",
      "Epoch 2/5\n",
      "157/156 [==============================] - 5s 32ms/step - loss: 0.0045 - acc: 0.9984 - val_loss: 14.4580 - val_acc: 0.1020\n",
      "Epoch 3/5\n",
      "157/156 [==============================] - 5s 32ms/step - loss: 0.0074 - acc: 0.9977 - val_loss: 13.1700 - val_acc: 0.1420\n",
      "Epoch 4/5\n",
      "157/156 [==============================] - 5s 32ms/step - loss: 0.0066 - acc: 0.9982 - val_loss: 13.4213 - val_acc: 0.0970\n",
      "Epoch 5/5\n",
      "157/156 [==============================] - 5s 32ms/step - loss: 0.0062 - acc: 0.9982 - val_loss: 13.9001 - val_acc: 0.1120\n",
      "Training rotated model with rotated dataset...\n",
      "Epoch 1/10\n",
      "157/156 [==============================] - 5s 33ms/step - loss: 1.2055 - acc: 0.6035 - val_loss: 3.8670 - val_acc: 0.1090\n",
      "Epoch 2/10\n",
      "157/156 [==============================] - 5s 32ms/step - loss: 0.9845 - acc: 0.6845 - val_loss: 2.5842 - val_acc: 0.2580\n",
      "Epoch 3/10\n",
      "157/156 [==============================] - 5s 32ms/step - loss: 0.8312 - acc: 0.7306 - val_loss: 9.3213 - val_acc: 0.1630\n",
      "Epoch 4/10\n",
      "157/156 [==============================] - 5s 32ms/step - loss: 0.7589 - acc: 0.7546 - val_loss: 13.5534 - val_acc: 0.1010\n",
      "Epoch 5/10\n",
      "157/156 [==============================] - 5s 32ms/step - loss: 0.6864 - acc: 0.7823 - val_loss: 14.6513 - val_acc: 0.0910\n",
      "Testing both models on both datasets...\n",
      "rotated_model_test_dataset score: loss=14.651349, accuracy=0.091000\n",
      "model_test_dataset score: loss=13.900095, accuracy=0.112000\n",
      "rotated_model_rotated_test_dataset score: loss=14.651349, accuracy=0.091000\n",
      "model_rotated_test_dataset score: loss=14.118076, accuracy=0.109000\n"
     ]
    }
   ],
   "source": [
    "import experiment\n",
    "batch_size = 64\n",
    "epochs=5\n",
    "rotated_epochs=epochs*2\n",
    "scores=experiment.train_rotated(model,rotated_model,x_train,y_train,x_test,\n",
    "                          y_test,num_classes,input_shape,batch_size,epochs,rotated_epochs)\n",
    "\n",
    "\n",
    "for k,v in scores.items():\n",
    "    print('%s score: loss=%f, accuracy=%f' % (k,v[0],v[1]))\n"
   ]
  },
  {
   "cell_type": "code",
   "execution_count": 10,
   "metadata": {},
   "outputs": [
    {
     "name": "stdout",
     "output_type": "stream",
     "text": [
      "2018-02-28 16:44:19.520189\n",
      "Results on dataset cifar10 with model sequential_3 and rotated model sequential_5\n",
      "\n",
      "rotated_model_test_dataset score: loss=1.107046, accuracy=0.636300\n",
      "\n",
      "model_test_dataset score: loss=1.871549, accuracy=0.698300\n",
      "\n",
      "rotated_model_rotated_test_dataset score: loss=1.148956, accuracy=0.617200\n",
      "\n",
      "model_rotated_test_dataset score: loss=5.062308, accuracy=0.328300\n",
      "\n"
     ]
    },
    {
     "name": "stderr",
     "output_type": "stream",
     "text": [
      "[autoreload of experiment failed: Traceback (most recent call last):\n",
      "  File \"/home/facundo/dev/sld/.env/lib/python3.6/site-packages/IPython/extensions/autoreload.py\", line 246, in check\n",
      "    superreload(m, reload, self.old_objects)\n",
      "  File \"/home/facundo/dev/sld/.env/lib/python3.6/site-packages/IPython/extensions/autoreload.py\", line 369, in superreload\n",
      "    module = reload(module)\n",
      "  File \"/home/facundo/.python/lib/python3.6/imp.py\", line 314, in reload\n",
      "    return importlib.reload(module)\n",
      "  File \"/home/facundo/.python/lib/python3.6/importlib/__init__.py\", line 166, in reload\n",
      "    _bootstrap._exec(spec, module)\n",
      "  File \"<frozen importlib._bootstrap>\", line 608, in _exec\n",
      "  File \"<frozen importlib._bootstrap_external>\", line 674, in exec_module\n",
      "  File \"<frozen importlib._bootstrap_external>\", line 781, in get_code\n",
      "  File \"<frozen importlib._bootstrap_external>\", line 741, in source_to_code\n",
      "  File \"<frozen importlib._bootstrap>\", line 205, in _call_with_frames_removed\n",
      "  File \"/home/facundo/dev/sld/rotation/experiment.py\", line 34\n",
      "    validation_data=rotated_test_dataset)\n",
      "                  ^\n",
      "SyntaxError: invalid syntax\n",
      "]\n"
     ]
    }
   ],
   "source": [
    "from datetime import datetime\n",
    "\n",
    "output_file=\"results_lecun.txt\"\n",
    "f= open(output_file,\"a+\")\n",
    "general_message=\"%s\\nResults on dataset %s with model %s and rotated model %s\\n\" % (str(datetime.now()),dataset,model.name,rotated_model.name)\n",
    "f.write(general_message)\n",
    "print(general_message)\n",
    "for k,v in scores.items():\n",
    "    message='%s score: loss=%f, accuracy=%f\\n' % (k,v[0],v[1])\n",
    "    print(message)\n",
    "    f.write(message)\n",
    "f.write(\"\\n\\n\")    \n",
    "f.close()"
   ]
  }
 ],
 "metadata": {
  "kernelspec": {
   "display_name": "Python 3",
   "language": "python",
   "name": "python3"
  },
  "language_info": {
   "codemirror_mode": {
    "name": "ipython",
    "version": 3
   },
   "file_extension": ".py",
   "mimetype": "text/x-python",
   "name": "python",
   "nbconvert_exporter": "python",
   "pygments_lexer": "ipython3",
   "version": "3.6.1"
  }
 },
 "nbformat": 4,
 "nbformat_minor": 2
}
