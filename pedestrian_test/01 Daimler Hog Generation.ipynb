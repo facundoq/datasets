{
 "cells": [
  {
   "cell_type": "code",
   "execution_count": 6,
   "metadata": {},
   "outputs": [
    {
     "name": "stdout",
     "output_type": "stream",
     "text": [
      "The autoreload extension is already loaded. To reload it, use:\n",
      "  %reload_ext autoreload\n"
     ]
    }
   ],
   "source": [
    "%load_ext autoreload\n",
    "%autoreload 2\n",
    "import sys\n",
    "sys.path.append('../pedestrian')\n",
    "\n",
    "import daimler\n",
    "import os"
   ]
  },
  {
   "cell_type": "code",
   "execution_count": 7,
   "metadata": {},
   "outputs": [
    {
     "name": "stdout",
     "output_type": "stream",
     "text": [
      "Loading dataset...\n",
      "Loaded\n"
     ]
    }
   ],
   "source": [
    "basepath=\"/media/data/datasets/pedestrian/daimler_mono/DaimlerBenchmark/\"\n",
    "print(\"Loading dataset...\")\n",
    "train_pedestrian,train_non_pedestrian,metadata,object_types=daimler.get_dataset(basepath)\n",
    "# train_pedestrian=train_pedestrian[::2]\n",
    "# train_non_pedestrian=train_non_pedestrian[::2]\n",
    "print(\"Loaded\")"
   ]
  },
  {
   "cell_type": "code",
   "execution_count": 10,
   "metadata": {},
   "outputs": [],
   "source": [
    "# tr\n",
    "import numpy as np\n",
    "import experiment\n"
   ]
  },
  {
   "cell_type": "code",
   "execution_count": 11,
   "metadata": {},
   "outputs": [
    {
     "name": "stdout",
     "output_type": "stream",
     "text": [
      "Generating hogs for pedestrians\n",
      "image shape (96, 48)\n",
      "resulting hog size = 3240\n",
      "Generating hogs for 15660 images...\n",
      "  0.000000 ..\n",
      "  10.000000 ..\n",
      "  20.000000 ..\n",
      "  30.000000 ..\n",
      "  40.000000 ..\n",
      "  50.000000 ..\n",
      "  60.000000 ..\n",
      "  70.000000 ..\n",
      "  80.000000 ..\n",
      "  90.000000 ..\n",
      "Done\n"
     ]
    }
   ],
   "source": [
    "print(\"Generating hogs for pedestrians\")\n",
    "train_pedestrian_hogs=experiment.hogs_from_images(train_pedestrian)"
   ]
  },
  {
   "cell_type": "code",
   "execution_count": 12,
   "metadata": {
    "scrolled": true
   },
   "outputs": [
    {
     "name": "stdout",
     "output_type": "stream",
     "text": [
      "Generating 4 crops of size (96, 48) per image \n",
      "Generating hogs for non pedestrians\n",
      "image shape (96, 48)\n",
      "resulting hog size = 3240\n",
      "Generating hogs for 26976 images...\n",
      "  0.000000 ..\n",
      "  9.997776 ..\n",
      "  19.995552 ..\n",
      "  29.993327 ..\n",
      "  39.991103 ..\n",
      "  49.988879 ..\n",
      "  59.986655 ..\n",
      "  69.984431 ..\n",
      "  79.982206 ..\n",
      "  89.979982 ..\n",
      "  99.977758 ..\n",
      "Done\n"
     ]
    }
   ],
   "source": [
    "image_size=train_pedestrian[0].shape\n",
    "crop_size=image_size\n",
    "crop_grid_size=(2,2)\n",
    "crops_per_image=crop_grid_size[0]*crop_grid_size[1]\n",
    "print(\"Generating %d crops of size %s per image \" % (crops_per_image, str(image_size)))\n",
    "train_non_pedestrian_crops=experiment.crop_images_uniform(train_non_pedestrian,crop_grid_size,crop_size)\n",
    "print(\"Generating hogs for non pedestrians\")\n",
    "train_non_pedestrian_hogs=experiment.hogs_from_images(train_non_pedestrian_crops)"
   ]
  },
  {
   "cell_type": "code",
   "execution_count": 14,
   "metadata": {},
   "outputs": [
    {
     "name": "stdout",
     "output_type": "stream",
     "text": [
      "Storing hogs..\n",
      "Done\n"
     ]
    }
   ],
   "source": [
    "import h5py\n",
    "print(\"Storing hogs..\")\n",
    "filepath='/media/data/models/daimler_hogs.h5'\n",
    "with h5py.File(filepath, 'w') as h5f:\n",
    "    h5f.create_dataset('pedestrians', data=train_pedestrian_hogs)\n",
    "    h5f.create_dataset('non_pedestrians', data=train_non_pedestrian_hogs)\n",
    "\n",
    "print(\"Done\")"
   ]
  },
  {
   "cell_type": "code",
   "execution_count": null,
   "metadata": {},
   "outputs": [],
   "source": []
  }
 ],
 "metadata": {
  "kernelspec": {
   "display_name": "Python 3",
   "language": "python",
   "name": "python3"
  },
  "language_info": {
   "codemirror_mode": {
    "name": "ipython",
    "version": 3
   },
   "file_extension": ".py",
   "mimetype": "text/x-python",
   "name": "python",
   "nbconvert_exporter": "python",
   "pygments_lexer": "ipython3",
   "version": "3.6.4"
  }
 },
 "nbformat": 4,
 "nbformat_minor": 2
}
