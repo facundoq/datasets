{
 "cells": [
  {
   "cell_type": "markdown",
   "metadata": {},
   "source": [
    "# INRIA Person Dataset (piotr version)\n",
    "\n",
    "http://pascal.inrialpes.fr/data/human/\n",
    "\n",
    "http://www.vision.caltech.edu/Image_Datasets/CaltechPedestrians/datasets/INRIA/\n",
    "\n",
    "    "
   ]
  },
  {
   "cell_type": "code",
   "execution_count": 1,
   "metadata": {},
   "outputs": [],
   "source": [
    "%load_ext autoreload\n",
    "%autoreload 2\n",
    "\n",
    "import os\n",
    "import util"
   ]
  },
  {
   "cell_type": "code",
   "execution_count": 22,
   "metadata": {},
   "outputs": [
    {
     "name": "stdout",
     "output_type": "stream",
     "text": [
      "['set00', 'set01']\n",
      "['/home/facundo/datasets/pedestrian/inria-piotr/set00/V001.seq', '/home/facundo/datasets/pedestrian/inria-piotr/set00/V000.seq', '/home/facundo/datasets/pedestrian/inria-piotr/set01/V001.seq', '/home/facundo/datasets/pedestrian/inria-piotr/set01/V000.seq'] ['set00_V001', 'set00_V000', 'set01_V001', 'set01_V000']\n"
     ]
    }
   ],
   "source": [
    "basepath=\"/home/facundo/datasets/pedestrian/inria-piotr/\"\n",
    "annotations_basepath=os.path.join(basepath,'annotations')\n",
    "sets=[f for f in os.listdir(basepath) if os.path.isdir(os.path.join(basepath, f)) and f.startswith('set')]\n",
    "print(sets)\n",
    "filepaths=[]\n",
    "prefixes=[]\n",
    "for set_foldername in sets:\n",
    "    set_folderpath=os.path.join(basepath,set_foldername)\n",
    "    seq_files=os.listdir(set_folderpath)\n",
    "    for seq_filename in seq_files:\n",
    "        filename,ext=os.path.splitext(seq_filename)\n",
    "        filepath=os.path.join(set_folderpath,seq_filename)\n",
    "        prefix=\"%s_%s\" % (set_foldername,filename)\n",
    "        prefixes.append(prefix)\n",
    "        filepaths.append(filepath)\n",
    "\n",
    "print(files,prefixes)\n",
    "for i in range(len(files)):\n",
    "    images=util.seq_to_img( filepaths[i],prefixes[i],output_folderpath)"
   ]
  },
  {
   "cell_type": "code",
   "execution_count": 23,
   "metadata": {},
   "outputs": [],
   "source": [
    "import scipy.io\n",
    "annotations_filepath=os.path.join(annotations_basepath,'set00/V000.vbb')\n",
    "mat = scipy.io.loadmat(annotations_filepath)"
   ]
  },
  {
   "cell_type": "code",
   "execution_count": 91,
   "metadata": {},
   "outputs": [
    {
     "name": "stdout",
     "output_type": "stream",
     "text": [
      "[('nFrame', 'O'), ('objLists', 'O'), ('maxObj', 'O'), ('objInit', 'O'), ('objLbl', 'O'), ('objStr', 'O'), ('objEnd', 'O'), ('objHide', 'O'), ('altered', 'O'), ('log', 'O'), ('logLen', 'O')]\n",
      "614\n",
      "(array([[1]], dtype=uint8), array([[ 263.82,  109.  ,  244.36,  596.  ]]), array([[0, 0, 0, 0]], dtype=uint8), array([[0]], dtype=uint8), array([[1]], dtype=uint8))\n"
     ]
    }
   ],
   "source": [
    "data=mat['A']\n",
    "print(a.dtype)\n",
    "nFrame=data['nFrame'][0][0][0][0]\n",
    "objLists=data['objLists'][0][0][0]\n",
    "print(nFrame)\n",
    "# print(objLists[0][0])\n",
    "objStr=data['objStr'][0][0][0]\n",
    "objInit=data['objInit'][0][0][0]\n",
    "objEnd=data['objEnd'][0][0][0]\n",
    "objLbl=data['objLbl'][0][0][0]\n",
    "maxObj=data['maxObj'][0][0][0][0]\n",
    "\n",
    "print(objLists[0][0][0])"
   ]
  }
 ],
 "metadata": {
  "kernelspec": {
   "display_name": "Python 3",
   "language": "python",
   "name": "python3"
  },
  "language_info": {
   "codemirror_mode": {
    "name": "ipython",
    "version": 3
   },
   "file_extension": ".py",
   "mimetype": "text/x-python",
   "name": "python",
   "nbconvert_exporter": "python",
   "pygments_lexer": "ipython3",
   "version": "3.6.1"
  }
 },
 "nbformat": 4,
 "nbformat_minor": 2
}
