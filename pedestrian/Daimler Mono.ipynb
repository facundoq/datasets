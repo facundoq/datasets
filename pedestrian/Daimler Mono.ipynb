{
 "cells": [
  {
   "cell_type": "markdown",
   "metadata": {},
   "source": [
    " URL: http://www.gavrila.net/Datasets/Daimler_Pedestrian_Benchmark_D/Daimler_Mono_Ped__Detection_Be/daimler_mono_ped__detection_be.html\n",
    " \n",
    "# Instructions\n",
    "\n",
    "* Download all .tar.gz files, put them in the same folder, extract them all\n",
    "* Set the basepath variable to the folder where all the .tar.gz files were extracted\n",
    "\n",
    "Only 2D bbox annotations reading is supported. For 3D you'd have to modify the code a bit.\n"
   ]
  },
  {
   "cell_type": "code",
   "execution_count": 36,
   "metadata": {},
   "outputs": [
    {
     "name": "stdout",
     "output_type": "stream",
     "text": [
      "21790\n",
      "ImageMetadata(filename='02m_45s_663488u.pgm', objects=[ObjectMetadata(id=24, type=1, confidence=0.0, bbox=[466.0, 217.0, 473.0, 238.0]), ObjectMetadata(id=22, type=255, confidence=0.0, bbox=[421.0, 226.0, 424.0, 236.0])])\n"
     ]
    }
   ],
   "source": [
    "\n",
    "import collections \n",
    "ImageMetadata = collections.namedtuple('ImageMetadata', ['filename', 'objects'])\n",
    "ObjectMetadata = collections.namedtuple('ObjectMetadata', ['id', 'type','confidence','bbox'])\n",
    "\n",
    "def file_to_lines(filepath):\n",
    "    with open(filepath) as f:\n",
    "        content = f.readlines()\n",
    "    # you may also want to remove whitespace characters like `\\n` at the end of each line\n",
    "    content = [x.strip() for x in content] \n",
    "    return content\n",
    "\n",
    "def get_object_types():\n",
    "    object_types={0:\"fully-visible pedestrian\",\n",
    "                1:\"bicyclist\",\n",
    "                2:\"motorcyclist\",\n",
    "                10:\"pedestrian group\",\n",
    "                255:\"partially visible pedestrian, bicyclist, motorcyclist\",}\n",
    "    return object_types\n",
    "def read_image_metadata(metadata_filepath):\n",
    "    image_metadata=[]\n",
    "    lines=file_to_lines(metadata_filepath)\n",
    "    lines=lines[4:]\n",
    "    i=0\n",
    "\n",
    "    while i<len(lines):\n",
    "        assert lines[i]==\";\"\n",
    "        image_filename=lines[i+1]\n",
    "        #image_resolution=lines[i+2]\n",
    "        zero_str,object_count_str=lines[i+3].split(\" \")\n",
    "        assert zero_str==\"0\"\n",
    "        object_count=int(object_count_str)\n",
    "        objects=[]\n",
    "        i=i+4\n",
    "        for j in range(object_count):\n",
    "            garbage,object_type_str=lines[i].split(\" \")\n",
    "            object_type=int(object_type_str)\n",
    "            object_id_str,uniqueid=lines[i+1].split(\" \")\n",
    "            object_id=int(object_id_str)\n",
    "            confidence=float(lines[i+2])\n",
    "            bbox= [float(x) for x in list(lines[i+3].split(\" \"))]\n",
    "            objects.append(ObjectMetadata(object_id,object_type,confidence,bbox))\n",
    "            i+=5\n",
    "        image_metadata.append(ImageMetadata(image_filename,objects))\n",
    "        \n",
    "    \n",
    "    return image_metadata,get_object_types()\n",
    "\n",
    "import os\n",
    "basepath=\"/media/data/datasets/pedestrian/daimler_mono/DaimlerBenchmark/\"\n",
    "datapath=os.path.join(basepath,\"Data\")\n",
    "annotations_filepath=os.path.join(basepath,\"GroundTruth/GroundTruth2D.db\")\n",
    "\n",
    "image_metadata,object_types=read_image_metadata(annotations_filepath)\n",
    "print(len(annotations))\n",
    "\n",
    "print(annotations[2340])"
   ]
  }
 ],
 "metadata": {
  "kernelspec": {
   "display_name": "Python 3",
   "language": "python",
   "name": "python3"
  },
  "language_info": {
   "codemirror_mode": {
    "name": "ipython",
    "version": 3
   },
   "file_extension": ".py",
   "mimetype": "text/x-python",
   "name": "python",
   "nbconvert_exporter": "python",
   "pygments_lexer": "ipython3",
   "version": "3.6.4"
  }
 },
 "nbformat": 4,
 "nbformat_minor": 2
}
