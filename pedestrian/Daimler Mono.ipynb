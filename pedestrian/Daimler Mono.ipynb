{
 "cells": [
  {
   "cell_type": "markdown",
   "metadata": {},
   "source": [
    " URL: http://www.gavrila.net/Datasets/Daimler_Pedestrian_Benchmark_D/Daimler_Mono_Ped__Detection_Be/daimler_mono_ped__detection_be.html\n",
    " \n",
    "# Instructions\n",
    "\n",
    "* Download all .tar.gz files, put them in the same folder, extract them all\n",
    "* Set the basepath variable to the folder where all the .tar.gz files were extracted\n",
    "\n",
    "Only 2D bbox annotations reading is supported. For 3D you'd have to modify the code a bit.\n"
   ]
  },
  {
   "cell_type": "code",
   "execution_count": 2,
   "metadata": {},
   "outputs": [
    {
     "name": "stdout",
     "output_type": "stream",
     "text": [
      "The autoreload extension is already loaded. To reload it, use:\n",
      "  %reload_ext autoreload\n",
      "21790\n",
      "ImageMetadata(filename='02m_45s_663488u.pgm', objects=[ObjectMetadata(id=24, type=1, confidence=0.0, bbox=[466.0, 217.0, 473.0, 238.0]), ObjectMetadata(id=22, type=255, confidence=0.0, bbox=[421.0, 226.0, 424.0, 236.0])])\n"
     ]
    }
   ],
   "source": [
    "%load_ext autoreload\n",
    "%autoreload 2\n",
    "\n",
    "import daimler\n",
    "import os"
   ]
  },
  {
   "cell_type": "code",
   "execution_count": 17,
   "metadata": {},
   "outputs": [
    {
     "name": "stdout",
     "output_type": "stream",
     "text": [
      "21790\n"
     ]
    }
   ],
   "source": [
    "\n",
    "basepath=\"/media/data/datasets/pedestrian/daimler_mono/DaimlerBenchmark/\"\n",
    "train_pedestrian,train_non_pedestrian,metadata,object_types=daimler.get_dataset(basepath)"
   ]
  },
  {
   "cell_type": "code",
   "execution_count": null,
   "metadata": {},
   "outputs": [],
   "source": [
    "#Display a test image with bounding boxes\n",
    "\n",
    "sample_index=2340\n",
    "print(image_metadata[sample_index])\n",
    "print(len(train_non_pedestrian))\n",
    "\n",
    "import matplotlib.pyplot as plt\n",
    "plt.imshow(train_non_pedestrian[3123])\n",
    "plt.show()\n",
    "\n",
    "\n",
    "import matplotlib.pyplot as plt\n",
    "plt.imshow(train_pedestrian[3123])\n",
    "plt.show()"
   ]
  }
 ],
 "metadata": {
  "kernelspec": {
   "display_name": "Python 3",
   "language": "python",
   "name": "python3"
  },
  "language_info": {
   "codemirror_mode": {
    "name": "ipython",
    "version": 3
   },
   "file_extension": ".py",
   "mimetype": "text/x-python",
   "name": "python",
   "nbconvert_exporter": "python",
   "pygments_lexer": "ipython3",
   "version": "3.6.4"
  }
 },
 "nbformat": 4,
 "nbformat_minor": 2
}
